{
 "cells": [
  {
   "cell_type": "code",
   "execution_count": null,
   "metadata": {},
   "outputs": [],
   "source": [
    "import numpy as np\n",
    "from sklearn.linear_model import LinearRegression\n",
    "\n",
    "X = np.array([\n",
    "    [1, 1],\n",
    "    [1, 2],\n",
    "    [2, 2],\n",
    "    [2, 3]\n",
    "])\n",
    "\n",
    "y = np.dot(X, np.array([1, 2])) + 3\n",
    "\n",
    "regressor = LinearRegression().fit(X, y)\n",
    "\n",
    "print(regressor.predict(np.array([[3, 5]])))\n"
   ]
  }
 ],
 "metadata": {
  "language_info": {
   "name": "python"
  }
 },
 "nbformat": 4,
 "nbformat_minor": 2
}
