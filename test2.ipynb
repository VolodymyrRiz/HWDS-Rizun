{
 "cells": [
  {
   "cell_type": "code",
   "execution_count": 1,
   "metadata": {},
   "outputs": [
    {
     "name": "stdout",
     "output_type": "stream",
     "text": [
      "   season  yr  mnth  holiday  weekday  workingday  weathersit       temp  \\\n",
      "0       1   0     1        0        6           0           2  14.110847   \n",
      "1       1   0     1        0        0           0           2  14.902598   \n",
      "2       1   0     1        0        1           1           1   8.050924   \n",
      "3       1   0     1        0        2           1           1   8.200000   \n",
      "4       1   0     1        0        3           1           1   9.305237   \n",
      "\n",
      "      atemp      hum  windspeed(mph)  windspeed(ms)   cnt  \n",
      "0  18.18125  80.5833       10.749882       4.805490   985  \n",
      "1  17.68695  69.6087       16.652113       7.443949   801  \n",
      "2   9.47025  43.7273       16.636703       7.437060  1349  \n",
      "3  10.60610  59.0435       10.739832       4.800998  1562  \n",
      "4  11.46350  43.6957       12.522300       5.597810  1600  \n"
     ]
    }
   ],
   "source": [
    "import pandas as pd # type: ignore\n",
    "import numpy as np # type: ignore\n",
    "from matplotlib import pyplot as plt # type: ignore\n",
    "%matplotlib inline\n",
    "\n",
    "df = pd.read_csv('bikes_rent.csv')\n",
    "print(df.head(5))    "
   ]
  }
 ],
 "metadata": {
  "kernelspec": {
   "display_name": "Python 3",
   "language": "python",
   "name": "python3"
  },
  "language_info": {
   "codemirror_mode": {
    "name": "ipython",
    "version": 3
   },
   "file_extension": ".py",
   "mimetype": "text/x-python",
   "name": "python",
   "nbconvert_exporter": "python",
   "pygments_lexer": "ipython3",
   "version": "3.11.4"
  }
 },
 "nbformat": 4,
 "nbformat_minor": 2
}
