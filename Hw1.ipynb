{
 "cells": [
  {
   "cell_type": "code",
   "execution_count": 1,
   "id": "73066d43-b911-4d12-a0d2-d88313dfb60d",
   "metadata": {},
   "outputs": [
    {
     "name": "stdout",
     "output_type": "stream",
     "text": [
      "[ 1  2  3  4  5  6  7  8  9 10]\n"
     ]
    }
   ],
   "source": [
    "import numpy as np\n",
    "\n",
    "# Створення масиву з першими 10-ма натуральними числами\n",
    "array = np.arange(1, 11)\n",
    "\n",
    "# Виведення масиву\n",
    "print(array)"
   ]
  },
  {
   "cell_type": "code",
   "execution_count": 2,
   "id": "e2afad1a-f66e-4e22-a1e5-2f258b6d86b8",
   "metadata": {},
   "outputs": [
    {
     "name": "stdout",
     "output_type": "stream",
     "text": [
      "[[0. 0. 0.]\n",
      " [0. 0. 0.]\n",
      " [0. 0. 0.]]\n"
     ]
    }
   ],
   "source": [
    "import numpy as np\n",
    "\n",
    "# Створення двовимірного масиву розміром 3x3 заповнених нулями\n",
    "matrix = np.zeros((3, 3))\n",
    "\n",
    "# Виведення матриці\n",
    "print(matrix)"
   ]
  },
  {
   "cell_type": "code",
   "execution_count": 3,
   "id": "48734b93-a3d0-48a6-b3b3-8b27ea24961f",
   "metadata": {},
   "outputs": [
    {
     "name": "stdout",
     "output_type": "stream",
     "text": [
      "[[ 4  2  3  6  4]\n",
      " [ 2  4  8  3  2]\n",
      " [ 3  1  2  3  9]\n",
      " [ 2  5  3 10  1]\n",
      " [ 5  4  8  1  7]]\n"
     ]
    }
   ],
   "source": [
    "import numpy as np\n",
    "\n",
    "# Створення двовимірного масиву розміром 5x5 заповнених випадковими цілими числами від 1 до 10\n",
    "matrix = np.random.randint(1, 11, size=(5, 5))\n",
    "\n",
    "# Виведення матриці\n",
    "print(matrix)"
   ]
  },
  {
   "cell_type": "code",
   "execution_count": 4,
   "id": "130ce44f-9fc4-4cd2-9d85-163c02271408",
   "metadata": {},
   "outputs": [
    {
     "name": "stdout",
     "output_type": "stream",
     "text": [
      "[[0.67984599 0.8772461  0.95088855 0.5535189 ]\n",
      " [0.15036939 0.77309138 0.1466846  0.28669703]\n",
      " [0.78205121 0.9730787  0.16432    0.25160959]\n",
      " [0.87039344 0.89666274 0.68869422 0.35259782]]\n"
     ]
    }
   ],
   "source": [
    "import numpy as np\n",
    "\n",
    "# Створення двовимірного масиву розміром 4x4 заповнених випадковими дійсними числами від 0 до 1\n",
    "matrix = np.random.uniform(0, 1, size=(4, 4))\n",
    "\n",
    "# Виведення матриці\n",
    "print(matrix)"
   ]
  },
  {
   "cell_type": "code",
   "execution_count": 5,
   "id": "5cb04426-2ebc-4422-b22a-2dd973838357",
   "metadata": {},
   "outputs": [
    {
     "name": "stdout",
     "output_type": "stream",
     "text": [
      "Array 1: [5 4 7 5 8]\n",
      "Array 2: [2 2 2 8 9]\n",
      "Addition: [ 7  6  9 13 17]\n",
      "Subtraction: [ 3  2  5 -3 -1]\n",
      "Multiplication: [10  8 14 40 72]\n"
     ]
    }
   ],
   "source": [
    "import numpy as np\n",
    "\n",
    "# Створення двох одновимірних масивів розміром 5, заповнених випадковими цілими числами від 1 до 10\n",
    "array1 = np.random.randint(1, 11, size=5)\n",
    "array2 = np.random.randint(1, 11, size=5)\n",
    "\n",
    "# Виведення масивів\n",
    "print(\"Array 1:\", array1)\n",
    "print(\"Array 2:\", array2)\n",
    "\n",
    "# Поелементні операції додавання, віднімання та множення\n",
    "addition = array1 + array2\n",
    "subtraction = array1 - array2\n",
    "multiplication = array1 * array2\n",
    "\n",
    "# Виведення результатів операцій\n",
    "print(\"Addition:\", addition)\n",
    "print(\"Subtraction:\", subtraction)\n",
    "print(\"Multiplication:\", multiplication)"
   ]
  },
  {
   "cell_type": "code",
   "execution_count": 6,
   "id": "fdb7e3e6-3ac7-4b6e-ba75-50ae2438ed42",
   "metadata": {},
   "outputs": [
    {
     "name": "stdout",
     "output_type": "stream",
     "text": [
      "Vector 1: [1 2 3 4 5 6 7]\n",
      "Vector 2: [7 6 5 4 3 2 1]\n",
      "Dot product: 84\n"
     ]
    }
   ],
   "source": [
    "import numpy as np\n",
    "\n",
    "# Створення двох векторів розміром 7, заповнення їх довільними числами\n",
    "vector1 = np.array([1, 2, 3, 4, 5, 6, 7])\n",
    "vector2 = np.array([7, 6, 5, 4, 3, 2, 1])\n",
    "\n",
    "# Виведення векторів\n",
    "print(\"Vector 1:\", vector1)\n",
    "print(\"Vector 2:\", vector2)\n",
    "\n",
    "# Знаходження скалярного добутку векторів\n",
    "dot_product = np.dot(vector1, vector2)\n",
    "\n",
    "# Виведення результату\n",
    "print(\"Dot product:\", dot_product)"
   ]
  },
  {
   "cell_type": "code",
   "execution_count": 7,
   "id": "733f45da-55da-4644-96d1-c7ff60b49fc0",
   "metadata": {},
   "outputs": [
    {
     "name": "stdout",
     "output_type": "stream",
     "text": [
      "Matrix 1:\n",
      "[[ 1 10]\n",
      " [ 3  1]]\n",
      "Matrix 2:\n",
      "[[ 1  3  5]\n",
      " [10 10  1]]\n",
      "Result of multiplication:\n",
      "[[101 103  15]\n",
      " [ 13  19  16]]\n"
     ]
    }
   ],
   "source": [
    "import numpy as np\n",
    "\n",
    "# Створення двох матриць розміром 2x2 та 2x3, заповнення їх випадковими цілими числами від 1 до 10\n",
    "matrix1 = np.random.randint(1, 11, size=(2, 2))\n",
    "matrix2 = np.random.randint(1, 11, size=(2, 3))\n",
    "\n",
    "# Виведення матриць\n",
    "print(\"Matrix 1:\")\n",
    "print(matrix1)\n",
    "print(\"Matrix 2:\")\n",
    "print(matrix2)\n",
    "\n",
    "# Перемноження матриць\n",
    "result = np.dot(matrix1, matrix2)\n",
    "\n",
    "# Виведення результату\n",
    "print(\"Result of multiplication:\")\n",
    "print(result)"
   ]
  },
  {
   "cell_type": "code",
   "execution_count": 8,
   "id": "17b83023-702f-45f1-b8eb-2a85453289c7",
   "metadata": {},
   "outputs": [
    {
     "name": "stdout",
     "output_type": "stream",
     "text": [
      "Original matrix:\n",
      "[[10  2  1]\n",
      " [ 8  4 10]\n",
      " [ 5  6  6]]\n",
      "Inverse matrix:\n",
      "[[ 0.1097561   0.01829268 -0.04878049]\n",
      " [-0.00609756 -0.16768293  0.2804878 ]\n",
      " [-0.08536585  0.15243902 -0.07317073]]\n"
     ]
    }
   ],
   "source": [
    "import numpy as np\n",
    "\n",
    "# Створення матриці розміром 3x3, заповнення її випадковими цілими числами від 1 до 10\n",
    "matrix = np.random.randint(1, 11, size=(3, 3))\n",
    "\n",
    "# Виведення матриці\n",
    "print(\"Original matrix:\")\n",
    "print(matrix)\n",
    "\n",
    "# Знаходження оберненої матриці\n",
    "inverse_matrix = np.linalg.inv(matrix)\n",
    "\n",
    "# Виведення оберненої матриці\n",
    "print(\"Inverse matrix:\")\n",
    "print(inverse_matrix)"
   ]
  },
  {
   "cell_type": "code",
   "execution_count": 9,
   "id": "15fd7866-396e-4cf9-8a16-b9482e4d1690",
   "metadata": {},
   "outputs": [
    {
     "name": "stdout",
     "output_type": "stream",
     "text": [
      "Original matrix:\n",
      "[[0.93715257 0.87958791 0.59476257 0.55247486]\n",
      " [0.98591342 0.92139936 0.4266196  0.8433277 ]\n",
      " [0.41556864 0.31542761 0.42075717 0.30479338]\n",
      " [0.35240951 0.80648685 0.65701615 0.03216567]]\n",
      "Transposed matrix:\n",
      "[[0.93715257 0.98591342 0.41556864 0.35240951]\n",
      " [0.87958791 0.92139936 0.31542761 0.80648685]\n",
      " [0.59476257 0.4266196  0.42075717 0.65701615]\n",
      " [0.55247486 0.8433277  0.30479338 0.03216567]]\n"
     ]
    }
   ],
   "source": [
    "import numpy as np\n",
    "\n",
    "# Створення матриці розміром 4x4, заповнення її випадковими дійсними числами від 0 до 1\n",
    "matrix = np.random.uniform(0, 1, size=(4, 4))\n",
    "\n",
    "# Виведення матриці\n",
    "print(\"Original matrix:\")\n",
    "print(matrix)\n",
    "\n",
    "# Транспонування матриці\n",
    "transposed_matrix = matrix.T\n",
    "\n",
    "# Виведення транспонованої матриці\n",
    "print(\"Transposed matrix:\")\n",
    "print(transposed_matrix)"
   ]
  },
  {
   "cell_type": "code",
   "execution_count": 10,
   "id": "08556828-9bfb-4709-a281-6374aaa27c71",
   "metadata": {},
   "outputs": [
    {
     "name": "stdout",
     "output_type": "stream",
     "text": [
      "Matrix:\n",
      "[[ 4  3 10  2]\n",
      " [ 4  4 10  5]\n",
      " [ 2  9  2  7]]\n",
      "Vector:\n",
      "[7 1 1 7]\n",
      "Result of multiplication:\n",
      "[55 77 74]\n"
     ]
    }
   ],
   "source": [
    "import numpy as np\n",
    "\n",
    "# Створення матриці розміром 3x4, заповнення її випадковими цілими числами від 1 до 10\n",
    "matrix = np.random.randint(1, 11, size=(3, 4))\n",
    "\n",
    "# Створення вектора розміром 4, заповнення його випадковими цілими числами від 1 до 10\n",
    "vector = np.random.randint(1, 11, size=4)\n",
    "\n",
    "# Виведення матриці та вектора\n",
    "print(\"Matrix:\")\n",
    "print(matrix)\n",
    "print(\"Vector:\")\n",
    "print(vector)\n",
    "\n",
    "# Перемноження матриці на вектор\n",
    "result = np.dot(matrix, vector)\n",
    "\n",
    "# Виведення результату\n",
    "print(\"Result of multiplication:\")\n",
    "print(result)"
   ]
  },
  {
   "cell_type": "code",
   "execution_count": 11,
   "id": "1d62df42-3916-44b3-9e7e-03e18ed8320a",
   "metadata": {},
   "outputs": [
    {
     "name": "stdout",
     "output_type": "stream",
     "text": [
      "Matrix:\n",
      "[[0.80211936 0.39226358 0.23754326]\n",
      " [0.48605105 0.35043509 0.06093691]]\n",
      "Vector:\n",
      "[0.99687031 0.48058475 0.51583641]\n",
      "Result of multiplication:\n",
      "[1.11065834 0.6843771 ]\n"
     ]
    }
   ],
   "source": [
    "import numpy as np\n",
    "\n",
    "# Створення матриці розміром 2x3, заповнення її випадковими дійсними числами від 0 до 1\n",
    "matrix = np.random.uniform(0, 1, size=(2, 3))\n",
    "\n",
    "# Створення вектора розміром 3, заповнення його випадковими дійсними числами від 0 до 1\n",
    "vector = np.random.uniform(0, 1, size=3)\n",
    "\n",
    "# Виведення матриці та вектора\n",
    "print(\"Matrix:\")\n",
    "print(matrix)\n",
    "print(\"Vector:\")\n",
    "print(vector)\n",
    "\n",
    "# Перемноження матриці на вектор\n",
    "result = np.dot(matrix, vector)\n",
    "\n",
    "# Виведення результату\n",
    "print(\"Result of multiplication:\")\n",
    "print(result)"
   ]
  },
  {
   "cell_type": "code",
   "execution_count": 12,
   "id": "4b50de60-6e68-4e5e-a56d-71b1c88f7b03",
   "metadata": {},
   "outputs": [
    {
     "name": "stdout",
     "output_type": "stream",
     "text": [
      "Matrix 1:\n",
      "[[ 3 10]\n",
      " [ 3  3]]\n",
      "Matrix 2:\n",
      "[[ 5 10]\n",
      " [ 6  6]]\n",
      "Elementwise product:\n",
      "[[ 15 100]\n",
      " [ 18  18]]\n"
     ]
    }
   ],
   "source": [
    "import numpy as np\n",
    "\n",
    "# Створення двох матриць розміром 2x2, заповнення їх випадковими цілими числами від 1 до 10\n",
    "matrix1 = np.random.randint(1, 11, size=(2, 2))\n",
    "matrix2 = np.random.randint(1, 11, size=(2, 2))\n",
    "\n",
    "# Виведення матриць\n",
    "print(\"Matrix 1:\")\n",
    "print(matrix1)\n",
    "print(\"Matrix 2:\")\n",
    "print(matrix2)\n",
    "\n",
    "# Поелементне множення матриць\n",
    "elementwise_product = np.multiply(matrix1, matrix2)\n",
    "\n",
    "# Виведення результату\n",
    "print(\"Elementwise product:\")\n",
    "print(elementwise_product)"
   ]
  },
  {
   "cell_type": "code",
   "execution_count": 13,
   "id": "a5cb3526-4252-47ba-b11d-bf421b707295",
   "metadata": {},
   "outputs": [
    {
     "name": "stdout",
     "output_type": "stream",
     "text": [
      "Matrix 1:\n",
      "[[ 3 10]\n",
      " [ 4  7]]\n",
      "Matrix 2:\n",
      "[[10 10]\n",
      " [ 2  8]]\n",
      "Product of matrices:\n",
      "[[ 50 110]\n",
      " [ 54  96]]\n"
     ]
    }
   ],
   "source": [
    "import numpy as np\n",
    "\n",
    "# Створення двох матриць розміром 2x2, заповнення їх випадковими цілими числами від 1 до 10\n",
    "matrix1 = np.random.randint(1, 11, size=(2, 2))\n",
    "matrix2 = np.random.randint(1, 11, size=(2, 2))\n",
    "\n",
    "# Виведення матриць\n",
    "print(\"Matrix 1:\")\n",
    "print(matrix1)\n",
    "print(\"Matrix 2:\")\n",
    "print(matrix2)\n",
    "\n",
    "# Знаходження добутку матриць\n",
    "product = np.matmul(matrix1, matrix2)\n",
    "\n",
    "# Виведення результату\n",
    "print(\"Product of matrices:\")\n",
    "print(product)"
   ]
  },
  {
   "cell_type": "code",
   "execution_count": 14,
   "id": "1f3ee5fe-bad2-4c62-a61a-178bd87e4ab4",
   "metadata": {},
   "outputs": [
    {
     "name": "stdout",
     "output_type": "stream",
     "text": [
      "Matrix:\n",
      "[[60 16 23 17  8]\n",
      " [68 32  7 91 50]\n",
      " [79 50 78 77 14]\n",
      " [21 26 53 90 77]\n",
      " [97 81 86  8 69]]\n",
      "Sum of elements: 1278\n"
     ]
    }
   ],
   "source": [
    "import numpy as np\n",
    "\n",
    "# Створення матриці розміром 5x5, заповнення її випадковими цілими числами від 1 до 100\n",
    "matrix = np.random.randint(1, 101, size=(5, 5))\n",
    "\n",
    "# Виведення матриці\n",
    "print(\"Matrix:\")\n",
    "print(matrix)\n",
    "\n",
    "# Знаходження суми елементів матриці\n",
    "sum_of_elements = np.sum(matrix)\n",
    "\n",
    "# Виведення результату\n",
    "print(\"Sum of elements:\", sum_of_elements)"
   ]
  },
  {
   "cell_type": "code",
   "execution_count": 15,
   "id": "578f9ee7-7e1f-4063-ad1d-692b35ed37d4",
   "metadata": {},
   "outputs": [
    {
     "name": "stdout",
     "output_type": "stream",
     "text": [
      "Matrix 1:\n",
      "[[ 7  2  4 10]\n",
      " [ 9  7  1  6]\n",
      " [ 2  6  2  5]\n",
      " [ 2  1  7 10]]\n",
      "Matrix 2:\n",
      "[[ 4  9  3  8]\n",
      " [ 1  7  3  4]\n",
      " [ 4  4 10  6]\n",
      " [ 5 10  6  6]]\n",
      "Difference of matrices:\n",
      "[[ 3 -7  1  2]\n",
      " [ 8  0 -2  2]\n",
      " [-2  2 -8 -1]\n",
      " [-3 -9  1  4]]\n"
     ]
    }
   ],
   "source": [
    "import numpy as np\n",
    "\n",
    "# Створення двох матриць розміром 4x4, заповнення їх випадковими цілими числами від 1 до 10\n",
    "matrix1 = np.random.randint(1, 11, size=(4, 4))\n",
    "matrix2 = np.random.randint(1, 11, size=(4, 4))\n",
    "\n",
    "# Виведення матриць\n",
    "print(\"Matrix 1:\")\n",
    "print(matrix1)\n",
    "print(\"Matrix 2:\")\n",
    "print(matrix2)\n",
    "\n",
    "# Знаходження різниці матриць\n",
    "difference = np.subtract(matrix1, matrix2)\n",
    "\n",
    "# Виведення результату\n",
    "print(\"Difference of matrices:\")\n",
    "print(difference)"
   ]
  },
  {
   "cell_type": "code",
   "execution_count": 16,
   "id": "6870db2f-e8ae-4bf7-85eb-62b60c4dc596",
   "metadata": {},
   "outputs": [
    {
     "name": "stdout",
     "output_type": "stream",
     "text": [
      "Matrix:\n",
      "[[0.57733893 0.28059138 0.94293308]\n",
      " [0.74990853 0.28773443 0.23530904]\n",
      " [0.747084   0.4273902  0.2013863 ]]\n",
      "Row sums: [1.80086339 1.272952   1.37586049]\n"
     ]
    }
   ],
   "source": [
    "import numpy as np\n",
    "\n",
    "# Створення матриці розміром 3x3, заповнення її випадковими дійсними числами від 0 до 1\n",
    "matrix = np.random.uniform(0, 1, size=(3, 3))\n",
    "\n",
    "# Виведення матриці\n",
    "print(\"Matrix:\")\n",
    "print(matrix)\n",
    "\n",
    "# Знаходження суми елементів кожного рядка матриці\n",
    "row_sums = np.sum(matrix, axis=1)\n",
    "\n",
    "# Виведення результату\n",
    "print(\"Row sums:\", row_sums)"
   ]
  },
  {
   "cell_type": "code",
   "execution_count": 17,
   "id": "6b977ff7-412b-4968-8ddb-9a3027670382",
   "metadata": {},
   "outputs": [
    {
     "name": "stdout",
     "output_type": "stream",
     "text": [
      "Original matrix:\n",
      "[[ 1  2  3  4]\n",
      " [ 5  6  7  8]\n",
      " [ 9 10 11 12]]\n",
      "Squared matrix:\n",
      "[[  1   4   9  16]\n",
      " [ 25  36  49  64]\n",
      " [ 81 100 121 144]]\n"
     ]
    }
   ],
   "source": [
    "import numpy as np\n",
    "\n",
    "# Створення матриці розміром 3x4 з довільними цілими числами\n",
    "matrix = np.array([[1, 2, 3, 4], [5, 6, 7, 8], [9, 10, 11, 12]])\n",
    "\n",
    "# Створення матриці з квадратами цих чисел\n",
    "squared_matrix = np.square(matrix)\n",
    "\n",
    "# Виведення матриць\n",
    "print(\"Original matrix:\")\n",
    "print(matrix)\n",
    "print(\"Squared matrix:\")\n",
    "print(squared_matrix)"
   ]
  },
  {
   "cell_type": "code",
   "execution_count": 18,
   "id": "0b0fb340-6f08-4f90-9b24-c041de6aa2fb",
   "metadata": {},
   "outputs": [
    {
     "name": "stdout",
     "output_type": "stream",
     "text": [
      "Original vector: [25  4 46 25]\n",
      "Square roots: [5.         2.         6.78232998 5.        ]\n"
     ]
    }
   ],
   "source": [
    "import numpy as np\n",
    "\n",
    "# Створення вектора розміром 4 з довільними цілими числами від 1 до 50\n",
    "vector = np.random.randint(1, 51, size=4)\n",
    "\n",
    "# Знаходження вектора з квадратними коренями цих чисел\n",
    "square_roots = np.sqrt(vector)\n",
    "\n",
    "# Виведення векторів\n",
    "print(\"Original vector:\", vector)\n",
    "print(\"Square roots:\", square_roots)"
   ]
  },
  {
   "cell_type": "code",
   "execution_count": null,
   "id": "d27eaa6d-b40e-4f61-9221-fb4817804a5e",
   "metadata": {},
   "outputs": [],
   "source": []
  }
 ],
 "metadata": {
  "kernelspec": {
   "display_name": "Python 3 (ipykernel)",
   "language": "python",
   "name": "python3"
  },
  "language_info": {
   "codemirror_mode": {
    "name": "ipython",
    "version": 3
   },
   "file_extension": ".py",
   "mimetype": "text/x-python",
   "name": "python",
   "nbconvert_exporter": "python",
   "pygments_lexer": "ipython3",
   "version": "3.11.4"
  }
 },
 "nbformat": 4,
 "nbformat_minor": 5
}
