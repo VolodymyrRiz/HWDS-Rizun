{
 "cells": [
  {
   "cell_type": "code",
   "execution_count": 1,
   "metadata": {},
   "outputs": [
    {
     "name": "stdout",
     "output_type": "stream",
     "text": [
      "Original vector: [21 23 35 49]\n",
      "Square roots: [4.58257569 4.79583152 5.91607978 7.        ]\n"
     ]
    }
   ],
   "source": [
    "import numpy as np\n",
    "\n",
    "# Створення вектора розміром 4 з довільними цілими числами від 1 до 50\n",
    "vector = np.random.randint(1, 51, size=4)\n",
    "\n",
    "# Знаходження вектора з квадратними коренями цих чисел\n",
    "square_roots = np.sqrt(vector)\n",
    "\n",
    "# Виведення векторів\n",
    "print(\"Original vector:\", vector)\n",
    "print(\"Square roots:\", square_roots)"
   ]
  }
 ],
 "metadata": {
  "kernelspec": {
   "display_name": "Python 3",
   "language": "python",
   "name": "python3"
  },
  "language_info": {
   "codemirror_mode": {
    "name": "ipython",
    "version": 3
   },
   "file_extension": ".py",
   "mimetype": "text/x-python",
   "name": "python",
   "nbconvert_exporter": "python",
   "pygments_lexer": "ipython3",
   "version": "3.11.4"
  }
 },
 "nbformat": 4,
 "nbformat_minor": 2
}
