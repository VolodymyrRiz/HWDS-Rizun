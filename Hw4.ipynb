{
  "cells": [
    {
      "cell_type": "markdown",
      "metadata": {
        "id": "QH4MTNLJF0cX"
      },
      "source": [
        "# Лінійна регресія: перенавчання і регуляризація"
      ]
    },
    {
      "cell_type": "markdown",
      "metadata": {
        "id": "_4Ozl-xzF0cb"
      },
      "source": [
        "У цьому завданні ми на прикладах побачимо, як перенавчаються лінійні моделі, розберемо, чому так відбувається, і з'ясуємо, як діагностувати та контролювати перенавчання.\n",
        "\n",
        "В усіх комірках, де вказаний коментар з інструкціями, потрібно написати код, який виконує ці інструкції. Решту комірок із кодом (без коментарів) треба просто виконати. Крім того, у завданні необхідно відповідати на запитання; відповіді потрібно вписувати після виділеного слова \"__Відповідь:__\"."
      ]
    },
    {
      "cell_type": "code",
      "execution_count": null,
      "metadata": {
        "id": "Q7qwUYsiF0cc"
      },
      "outputs": [],
      "source": [
        "import pandas as pd # type: ignore\n",
        "import numpy as np # type: ignore\n",
        "from matplotlib import pyplot as plt # type: ignore\n",
        "%matplotlib inline"
      ]
    },
    {
      "cell_type": "markdown",
      "metadata": {
        "id": "lAIZa5LXF0ce"
      },
      "source": [
        "Ми будемо працювати з датасетом __\"bikes_rent.csv\"__, у якому по днях записані календарна інформація та погодні умови, що характеризують автоматизовані пункти прокату велосипедів, а також кількість прокатів у цей день. Останнє ми будемо передбачати; таким чином, ми будемо розв'язувати завдання регресії."
      ]
    },
    {
      "cell_type": "markdown",
      "metadata": {
        "id": "bL3VD-Z9F0ce"
      },
      "source": [
        "### Ознайомлення з даними"
      ]
    },
    {
      "cell_type": "markdown",
      "metadata": {
        "id": "PlxEpVFqghIe"
      },
      "source": [
        "## Завдання 1"
      ]
    },
    {
      "cell_type": "markdown",
      "metadata": {
        "id": "5HYQjYnVF0cf"
      },
      "source": [
        "Завантажте датасет за допомогою функції __pandas.read_csv__ у змінну __df__. Виведіть перші 5 рядків, щоб переконатися в коректному зчитуванні даних:"
      ]
    },
    {
      "cell_type": "code",
      "execution_count": null,
      "metadata": {
        "id": "moafDqLOF0cf",
        "outputId": "b46e6708-e144-446d-8b36-aaa5f5685959"
      },
      "outputs": [],
      "source": [
        "df = pd.read_csv('bikes_rent.csv')\n",
        "print(df.head(5))      "
      ]
    },
    {
      "cell_type": "markdown",
      "metadata": {
        "id": "arebsdFoF0ch"
      },
      "source": [
        "Для кожного дня прокату відомі такі ознаки:\n",
        "* _season_: 1 — весна, 2 — літо, 3 — осінь, 4 — зима\n",
        "* _yr_: 0 — 2011, 1 — 2012\n",
        "* _mnth_: від 1 до 12\n",
        "* _holiday_: 0 — немає свята, 1 — є свято\n",
        "* _weekday_: від 0 до 6\n",
        "* _workingday_: 0 — неробочий день, 1 — робочий день\n",
        "* _weathersit_: оцінка сприятливості погоди від 1 (чистий, ясний день) до 4 (злива, туман)\n",
        "* _temp_: температура в Цельсіях\n",
        "* _atemp_: температура за відчуттями в Цельсіях\n",
        "* _hum_: вологість\n",
        "* _windspeed(mph)_: швидкість вітру в милях за годину\n",
        "* _windspeed(ms)_: швидкість вітру в метрах за секунду\n",
        "* _cnt_: кількість орендованих велосипедів (це цільова ознака, її ми будемо передбачати)\n",
        "\n",
        "Отже, у нас є речові, бінарні та номінальні (порядкові) ознаки, і з усіма з них можна працювати як з речовими. З номінальними ознаками теж можна працювати як з речовими, тому що на них заданий порядок. Давайте подивимося на графіках, як цільова ознака залежить від решти."
      ]
    },
    {
      "cell_type": "markdown",
      "metadata": {
        "id": "w_bf05QXe60r"
      },
      "source": [
        "Побудуйте графіки залежностей атрибутів від кількості поїздок. Іншими словами, вам потрібно побудувати 12 графіків. На кожному має бути зображена залежність чергового атрибута від змінної **cnt**."
      ]
    },
    {
      "cell_type": "code",
      "execution_count": null,
      "metadata": {
        "id": "N72yVVRYF0ci"
      },
      "outputs": [],
      "source": [
        "# Put you code here"
      ]
    },
    {
      "cell_type": "markdown",
      "metadata": {
        "id": "1g8iwiimF0cj"
      },
      "source": [
        "__Запитання:__\n",
        "1. Яким є характер залежності кількості прокатів від місяця?\n",
        "1. Вкажіть одну або дві ознаки, від яких кількість прокатів скоріше за все залежить лінійно."
      ]
    },
    {
      "cell_type": "markdown",
      "metadata": {
        "id": "rB2NCSXbF0cj"
      },
      "source": [
        "## Завдання 2\n",
        "\n",
        "Давайте більш строго оцінимо рівень лінійної залежності між ознаками та цільовою змінною. Гарною мірою лінійної залежності між двома векторами є кореляція Пірсона. Нам уже доводилося мати з нею справу раніше. Для її обчислення в pandas можна використовувати методи датафрейму: corr і corrwith."
      ]
    },
    {
      "cell_type": "markdown",
      "metadata": {
        "id": "ykR_leNKF0ck"
      },
      "source": [
        "Порахуйте кореляції всіх ознак, окрім останньої, з останньою за допомогою методу `corrwith`."
      ]
    },
    {
      "cell_type": "code",
      "execution_count": null,
      "metadata": {
        "id": "v3RlugT3F0ck"
      },
      "outputs": [],
      "source": [
        "# Put your code here"
      ]
    },
    {
      "cell_type": "markdown",
      "metadata": {
        "id": "ovV_DO35F0cl"
      },
      "source": [
        "У вибірці є ознаки, що корелюють із цільовою, а отже, завдання можна розв'язувати лінійними методами."
      ]
    },
    {
      "cell_type": "markdown",
      "metadata": {
        "id": "r0dre43ZF0cl"
      },
      "source": [
        "За графіками видно, що деякі ознаки схожі між собою. Тому давайте також порахуємо кореляції між речовими ознаками."
      ]
    },
    {
      "cell_type": "markdown",
      "metadata": {
        "id": "Wga1WJDkF0cl"
      },
      "source": [
        "## Завдання 3\n",
        "\n",
        "Порахуйте попарні кореляції між ознаками temp, atemp, hum, windspeed(mph), windspeed(ms) і cnt\n",
        "за допомогою методу corr:"
      ]
    },
    {
      "cell_type": "code",
      "execution_count": null,
      "metadata": {
        "id": "1rSOhITgF0cm"
      },
      "outputs": [],
      "source": [
        "# Put your code here"
      ]
    },
    {
      "cell_type": "markdown",
      "metadata": {
        "id": "Ooc4syvaF0cm"
      },
      "source": [
        "На діагоналях, як і належить, стоять одиниці. Однак у матриці є ще дві пари сильно корелюючих стовпців: temp і atemp (корелюють за своєю природою) і два windspeed (тому що це просто переведення одних одиниць в інші). Далі ми побачимо, що цей факт негативно позначається на навчанні лінійної моделі."
      ]
    },
    {
      "cell_type": "markdown",
      "metadata": {
        "id": "t-w2-4DbF0cm"
      },
      "source": [
        "Насамкінець подивимося середні ознак (метод mean), щоб оцінити масштаб ознак і частки 1 у бінарних ознак."
      ]
    },
    {
      "cell_type": "markdown",
      "metadata": {
        "id": "Ml3jlosnF0cm"
      },
      "source": [
        "## Завдання 4\n",
        "\n",
        "Виведіть середні ознак."
      ]
    },
    {
      "cell_type": "code",
      "execution_count": null,
      "metadata": {
        "id": "zg7yBN9YF0cn"
      },
      "outputs": [],
      "source": [
        "# Put your code here"
      ]
    },
    {
      "cell_type": "markdown",
      "metadata": {
        "id": "2i9pGW4TF0cn"
      },
      "source": [
        "Ознаки мають різний масштаб, отже, для подальшої роботи нам краще нормувати матрицю об'єкти-ознаки."
      ]
    },
    {
      "cell_type": "markdown",
      "metadata": {
        "id": "-RTwV3e_F0cn"
      },
      "source": [
        "### Проблема перша: колінеарні ознаки"
      ]
    },
    {
      "cell_type": "markdown",
      "metadata": {
        "id": "SSmpjxmrF0co"
      },
      "source": [
        "Отже, у наших даних одна ознака дублює іншу, і є ще дві дуже схожі. Звичайно, ми могли б одразу видалити дублікати, але давайте подивимося, як відбувалося б навчання моделі, якби ми не помітили цю проблему.\n",
        "\n",
        "Для початку проведемо масштабування, або стандартизацію ознак: з кожної ознаки віднімемо її середнє і поділимо на стандартне відхилення. Це можна зробити за допомогою методу scale.\n",
        "\n",
        "Крім того, необхідно перемішати вибірку, це буде потрібно для крос-валідації."
      ]
    },
    {
      "cell_type": "code",
      "execution_count": null,
      "metadata": {
        "id": "jkGjoC9QF0co"
      },
      "outputs": [],
      "source": [
        "from sklearn.preprocessing import scale # type: ignore\n",
        "from sklearn.utils import shuffle # type: ignore"
      ]
    },
    {
      "cell_type": "code",
      "execution_count": null,
      "metadata": {
        "colab": {
          "base_uri": "https://localhost:8080/",
          "height": 198
        },
        "id": "9JnmTmeKF0co",
        "outputId": "ff5429b9-c017-43d6-9a24-b13b2475f75b"
      },
      "outputs": [],
      "source": [
        "df_shuffled = shuffle(df, random_state=42)\n",
        "X = scale(df_shuffled[df_shuffled.columns[:-1]])\n",
        "y = df_shuffled[\"cnt\"]"
      ]
    },
    {
      "cell_type": "markdown",
      "metadata": {
        "id": "wEvKSbrFF0co"
      },
      "source": [
        "Давайте навчимо лінійну регресію на наших даних і подивимося на ваги ознак."
      ]
    },
    {
      "cell_type": "code",
      "execution_count": null,
      "metadata": {
        "id": "Q9DAkdS1F0cp"
      },
      "outputs": [],
      "source": [
        "from sklearn.linear_model import LinearRegression # type: ignore"
      ]
    },
    {
      "cell_type": "markdown",
      "metadata": {
        "id": "-8Cc-xhqF0cp"
      },
      "source": [
        "## Завдання 5\n",
        "\n",
        "Створіть об'єкт лінійного регресора, навчіть його на всіх даних і виведіть ваги моделі (ваги зберігаються у змінній `coef_` класу регресора). Можна виводити пари (назва ознаки, вага), скориставшись функцією `zip`, вбудованою в мову python. Назви ознак зберігаються у змінній `df.columns`.\n"
      ]
    },
    {
      "cell_type": "code",
      "execution_count": null,
      "metadata": {
        "id": "EYFEkeI0F0cp"
      },
      "outputs": [],
      "source": [
        "# Put your code here"
      ]
    },
    {
      "cell_type": "markdown",
      "metadata": {
        "id": "EXHziiV-F0cp"
      },
      "source": [
        "Ми бачимо, що ваги при лінійно-залежних ознаках за модулем значно більші, ніж при інших ознаках. Щоб зрозуміти, чому так сталося, згадаємо аналітичну формулу, за якою обчислюються ваги лінійної моделі в методі найменших квадратів:\n",
        "\n",
        "$$w = (X^TX)^{-1} X^T y$$\n",
        "\n",
        "Якщо в $X$ є колінеарні (лінійно-залежні) стовпці, матриця $X^TX$ стає виродженою, і формула перестає бути коректною. Чим більш залежні ознаки, тим менший визначник цієї матриці й тим гірша апроксимація $Xw \\approx y$. Таку ситуацію називають _проблемою мультиколінеарності_."
      ]
    },
    {
      "cell_type": "markdown",
      "metadata": {
        "id": "PIX0I5LQF0cq"
      },
      "source": [
        "З парою (temp, atemp) трохи менше корелюючих змінних такого не сталося, однак на практиці завжди варто уважно стежити за коефіцієнтами при схожих ознаках."
      ]
    },
    {
      "cell_type": "markdown",
      "metadata": {
        "id": "vkXwN1tKF0cq"
      },
      "source": [
        "Для того щоб розв'язати проблему мультиколінеарності, потрібно скористатися регуляризатором. До оптимізуючого функціоналу додають $L_1$ або $L_2$ норму ваг, помножену на коефіцієнт регуляризації $\\alpha$. У першому випадку метод називається Lasso, а у другому — Ridge."
      ]
    },
    {
      "cell_type": "markdown",
      "metadata": {
        "id": "FT2oVbm1F0cq"
      },
      "source": [
        "### Завдання 6\n",
        "Давайте спробуємо навчити лінійні моделі з $L_1$ і $L_2$-регуляризацією, а далі порівняємо їхні ваги. Навчіть регресори Ridge і Lasso з параметрами за замовчуванням і переконайтеся, що проблема з вагами вирішилась."
      ]
    },
    {
      "cell_type": "markdown",
      "metadata": {
        "id": "Rw0SDNemF0cq"
      },
      "source": [
        "Навчіть лінійну модель з $L_1$-регуляризацією (клас Lasso) і виведіть ваги."
      ]
    },
    {
      "cell_type": "code",
      "execution_count": null,
      "metadata": {
        "id": "A2U5BrZ9F0cr",
        "outputId": "1f75758c-599b-4175-9428-bd9cd7d57cf1"
      },
      "outputs": [],
      "source": [
        "# Put your code here"
      ]
    },
    {
      "cell_type": "markdown",
      "metadata": {
        "id": "h7MpUkWyF0cr"
      },
      "source": [
        "Навчіть лінійну модель з $L_2$-регуляризацією (клас Ridge) і виведіть ваги."
      ]
    },
    {
      "cell_type": "code",
      "execution_count": null,
      "metadata": {
        "id": "u4BnooUuF0cr",
        "outputId": "876aa324-1171-4adb-d744-18d4ac008e95"
      },
      "outputs": [],
      "source": [
        "# Put your code here"
      ]
    },
    {
      "cell_type": "markdown",
      "metadata": {
        "id": "OmpSEJ3wF0cr"
      },
      "source": [
        "### Завдання 7\n",
        "\n",
        "На відміну від $L_2$-регуляризації, $L_1$ обнуляє ваги при деяких ознаках. Давайте поспостерігаємо, як змінюються ваги зі збільшенням коефіцієнта регуляризації $\\alpha$."
      ]
    },
    {
      "cell_type": "markdown",
      "metadata": {
        "id": "Ho9_PTbHF0cs"
      },
      "source": [
        "Для кожного значення коефіцієнта з `alphas` навчіть регресор `Lasso` і запишіть ваги у список `coefs_lasso`, а потім навчіть `Ridge` і запишіть ваги у список`coefs_ridge`. Конвертуйте отримані списки в `np.array`."
      ]
    },
    {
      "cell_type": "code",
      "execution_count": null,
      "metadata": {
        "id": "HiizakIyF0cs"
      },
      "outputs": [],
      "source": [
        "alphas = np.arange(1, 500, 50)\n",
        "\n",
        "coefs_lasso = # Put your code here\n",
        "coefs_ridge = # Put your code here\n",
        "\n",
        "for alpha in alphas:\n",
        "    # Put your code here\n",
        "\n",
        "# Put your code here"
      ]
    },
    {
      "cell_type": "markdown",
      "metadata": {
        "id": "vR3hawHAF0cs"
      },
      "source": [
        "Проаналізуйте динаміку ваг при збільшенні параметра регуляризації:"
      ]
    },
    {
      "cell_type": "code",
      "execution_count": null,
      "metadata": {
        "id": "rijH4f-VF0cs",
        "outputId": "250a46ca-6722-4642-af12-31e6e4447ff6"
      },
      "outputs": [],
      "source": [
        "plt.figure(figsize=(8, 5))\n",
        "\n",
        "for coef, feature in zip(coefs_lasso.T, df.columns):\n",
        "    plt.plot(alphas, coef, label=feature, color=np.random.rand(3))\n",
        "\n",
        "plt.legend(loc=\"upper right\", bbox_to_anchor=(1.4, 0.95))\n",
        "plt.xlabel(\"alpha\")\n",
        "plt.ylabel(\"feature weight\")\n",
        "plt.title(\"Lasso\")\n",
        "\n",
        "plt.figure(figsize=(8, 5))\n",
        "for coef, feature in zip(coefs_ridge.T, df.columns):\n",
        "    plt.plot(alphas, coef, label=feature, color=np.random.rand(3))\n",
        "\n",
        "plt.legend(loc=\"upper right\", bbox_to_anchor=(1.4, 0.95))\n",
        "plt.xlabel(\"alpha\")\n",
        "plt.ylabel(\"feature weight\")\n",
        "plt.title(\"Ridge\")\n",
        "\n",
        "plt.show()"
      ]
    },
    {
      "cell_type": "markdown",
      "metadata": {
        "id": "wDCadrLbF0cs"
      },
      "source": [
        "Проаналізуйте графіки та дайте відповіді на такі запитання.\n",
        "\n",
        "1. Який регуляризатор (Ridge або Lasso) агресивніше зменшує ваги при одному й тому самому alpha?\n",
        "1. Що станеться з вагами Lasso, якщо alpha зробити дуже великим? Поясніть, чому так відбувається.\n",
        "1. Чи можна стверджувати, що `Lasso` виключає одну з ознак `windspeed` при будь-якому значенні `alpha > 0`? А Ridge? Вважається, що регуляризатор виключає ознаку, якщо коефіцієнт при ньому менший $10^{-3}$.\n",
        "1. Який із регуляризаторів підійде для відбору неінформативних ознак?"
      ]
    },
    {
      "cell_type": "markdown",
      "metadata": {
        "id": "IEmB7CPtF0ct"
      },
      "source": [
        "### Завдання 8\n",
        "\n",
        "Далі будемо працювати з `Lasso`.\n",
        "\n",
        "Отже, ми бачимо, що при зміні alpha модель по-різному підбирає коефіцієнти ознак. Нам потрібно вибрати найкраще alpha.\n",
        "\n",
        "Для цього, по-перше, нам потрібна метрика якості. Будемо використовувати як метрику сам оптимізований функціонал методу найменших квадратів, тобто `Mean Square Error`.\n",
        "\n",
        "По-друге, потрібно зрозуміти, на яких даних цю метрику рахувати. Не можна вибирати `alpha` за значенням MSE на навчальній вибірці, тому що тоді ми не зможемо оцінити, як модель буде робити передбачення на нових для неї даних. Якщо ми виберемо одне розбиття вибірки на навчальну та тестову (це називається holdout), то налаштуємося на конкретні \"нові\" дані, і знову можемо перенавчитися. Тому будемо робити декілька розбиттів вибірки, на кожному пробувати різні значення alpha, а потім усереднювати MSE. Найзручніше робити такі розбиття крос-валідацією, тобто розділити вибірку на $K$ частин, і кожного разу брати одну з них як тестову, а з блоків, що залишилися, складати навчальну вибірку."
      ]
    },
    {
      "cell_type": "markdown",
      "metadata": {
        "id": "wyOFogflF0ct"
      },
      "source": [
        "Робити крос-валідацію для регресії в sklearn зовсім просто: для цього є спеціальний регресор, __LassoCV__, який бере на вхід список із alpha і для кожного з них обчислює MSE на крос-валідації. Після навчання (якщо залишити параметр cv=3 за замовчуванням) регресор буде містити змінну __mse\\_path\\___, матрицю розміру len(alpha) x k, k = 3 (число блоків у крос-валідації), що містить значення MSE на тесті для відповідних запусків. Крім того, у змінній alpha\\_ буде зберігатися вибране значення параметра регуляризації, а в coef\\_, традиційно, навчені ваги, що відповідають цьому alpha_.\n",
        "\n",
        "Зверніть увагу, що регресор може змінювати порядок, у якому він проходить по alphas; для зіставлення з матрицею MSE краще використовувати змінну регресора alphas_."
      ]
    },
    {
      "cell_type": "markdown",
      "metadata": {
        "id": "_aUw0GmkF0ct"
      },
      "source": [
        "Навчіть регресор `LassoCV` на всіх параметрах регуляризації з alpha. Побудуйте графік _усередненого_ за рядками `MSE` в залежності від `alpha` (використовуйте для цього функцію `create_plot`).\n",
        "\n",
        "Виведіть вибране `alpha`, а також пари \"ознака-коефіцієнт\" для навченого вектора коефіцієнтів."
      ]
    },
    {
      "cell_type": "code",
      "execution_count": null,
      "metadata": {
        "id": "L5MVKdVPF0cu"
      },
      "outputs": [],
      "source": [
        "def create_plot(data, title, xlabel, ylabel, figsize=None):\n",
        "    size = figsize or (15, 5)\n",
        "    plt.figure(figsize=size)\n",
        "\n",
        "    x = map(lambda e: e[0], data)\n",
        "    y = map(lambda e: e[1], data)\n",
        "    plt.plot(x, y)\n",
        "\n",
        "    plt.title(title)\n",
        "    plt.xlabel(xlabel)\n",
        "    plt.ylabel(ylabel)\n",
        "\n",
        "    plt.grid()\n",
        "    plt.show()"
      ]
    },
    {
      "cell_type": "code",
      "execution_count": null,
      "metadata": {
        "id": "lYIKXzG5F0cu",
        "outputId": "ca17b1f0-e361-4496-cb72-d6a7680bcdf9"
      },
      "outputs": [],
      "source": [
        "from sklearn.linear_model import LassoCV # type: ignore\n",
        "\n",
        "alphas = np.arange(1, 100, 5)\n",
        "\n",
        "regressor = # Put your code here"
      ]
    },
    {
      "cell_type": "markdown",
      "metadata": {
        "id": "hRoEnDtfF0cu"
      },
      "source": [
        "Отже, ми вибрали певний параметр регуляризації. Давайте подивимося, які б ми вибирали alpha, якби ділили вибірку лише один раз на навчальну та тестову, тобто розглянемо траєкторії MSE, що відповідають окремим блокам вибірки."
      ]
    },
    {
      "cell_type": "markdown",
      "metadata": {
        "id": "Jvl3XiPmF0cu"
      },
      "source": [
        "### Завдання 9\n",
        "\n",
        "Виведіть значення `alpha`, що відповідають мінімумам `MSE` на кожному розбитті (тобто за стовпцями).\n",
        "На трьох окремих графіках візуалізуйте стовпці `mse_path_`.\n"
      ]
    },
    {
      "cell_type": "code",
      "execution_count": null,
      "metadata": {
        "id": "cpiFOLHHF0cu",
        "outputId": "f47bd59d-2e0e-4f63-b715-7ef199d5b382"
      },
      "outputs": [],
      "source": [
        "# Put your code here"
      ]
    },
    {
      "cell_type": "markdown",
      "metadata": {
        "id": "UEzEyHA1F0cv"
      },
      "source": [
        "На кожному розбитті оптимальне значення `alpha` своє, і йому відповідає велике MSE на інших розбиттях. Виходить, що ми налаштовуємося на конкретні навчальні та контрольні вибірки. При виборі `alpha` на крос-валідації ми вибираємо дещо \"середнє\", що даватиме прийнятне значення метрики на різних розбиттях вибірки."
      ]
    },
    {
      "cell_type": "markdown",
      "metadata": {
        "id": "B6rE566oF0cv"
      },
      "source": [
        "### Завдання 10\n",
        "\n",
        "Нарешті, як прийнято в аналізі даних, давайте проінтерпретуємо результат. Дайте відповіді на наступні запитання."
      ]
    },
    {
      "cell_type": "markdown",
      "metadata": {
        "id": "SSCcePDSF0cw"
      },
      "source": [
        "#### Запитання 1\n",
        "\n",
        "В останній навченій моделі виберіть 4 ознаки з найбільшими (позитивними) коефіцієнтами (і випишіть їх), подивіться на візуалізації залежностей `cnt` від цих ознак, які ми зображали у блоці \"Ознайомлення з даними\". Чи видно зростаючу лінійну залежність `cnt` від цих ознак за графіками? Чи логічно стверджувати (виходячи зі здорового глузду), що чим більше значення цих ознак, тим більше людей захочуть взяти велосипеди?"
      ]
    },
    {
      "cell_type": "markdown",
      "metadata": {
        "id": "2ikKprKqF0c0"
      },
      "source": [
        "__Відповідь:__"
      ]
    },
    {
      "cell_type": "code",
      "execution_count": null,
      "metadata": {
        "id": "W1MTuRXuF0c0"
      },
      "outputs": [],
      "source": [
        "# ???"
      ]
    },
    {
      "cell_type": "markdown",
      "metadata": {
        "id": "DkQTu53pF0c0"
      },
      "source": [
        "#### Запитання 2\n",
        "\n",
        "Виберіть 3 ознаки з найбільшими за модулем негативними коефіцієнтами (і випишіть їх), подивіться на відповідні візуалізації. Чи видно лінійну залежність, що зменшується? Чи логічно стверджувати, що чим більша величина цих ознак, тим менше людей захочуть взяти велосипеди?"
      ]
    },
    {
      "cell_type": "markdown",
      "metadata": {
        "id": "DUN8I7shF0c0"
      },
      "source": [
        "__Відповідь:__"
      ]
    },
    {
      "cell_type": "code",
      "execution_count": null,
      "metadata": {
        "id": "jv1CGs-8F0c1"
      },
      "outputs": [],
      "source": [
        "# ???"
      ]
    },
    {
      "cell_type": "markdown",
      "metadata": {
        "id": "vrbD3fNSF0c1"
      },
      "source": [
        "#### Запитання 3\n",
        "\n",
        "Випишіть ознаки з коефіцієнтами, близькими до нуля (< 1e-3). Як ви думаєте, чому модель виключила їх із моделі (знову подивіться на графіки)? Чи правда, що вони ніяк не впливають на попит на велосипеди?"
      ]
    },
    {
      "cell_type": "markdown",
      "metadata": {
        "id": "tFhvV-jcF0c1"
      },
      "source": [
        "__Відповідь:__"
      ]
    },
    {
      "cell_type": "code",
      "execution_count": null,
      "metadata": {
        "id": "TwnJNeaIF0c1"
      },
      "outputs": [],
      "source": [
        "# ???"
      ]
    },
    {
      "cell_type": "markdown",
      "metadata": {
        "id": "Wg0VQz5_F0c2"
      },
      "source": [
        "### Висновок\n",
        "Отже, ми подивилися, як можна стежити за адекватністю лінійної моделі, як відбирати ознаки і як грамотно, за можливості не налаштовуючись на якусь конкретну порцію даних, підбирати коефіцієнт регуляризації.\n",
        "\n",
        "Варто зазначити, що за допомогою крос-валідації зручно підбирати лише невелику кількість параметрів. (1, 2, максимум 3), тому що для кожної допустимої їх комбінації нам доводиться декілька разів навчати модель. Такий процес займає багато часу, особливо якщо треба навчатися на великих обсягах даних."
      ]
    }
  ],
  "metadata": {
    "anaconda-cloud": {},
    "colab": {
      "provenance": []
    },
    "kernelspec": {
      "display_name": "Python 2",
      "language": "python",
      "name": "python2"
    },
    "language_info": {
      "codemirror_mode": {
        "name": "ipython",
        "version": 2
      },
      "file_extension": ".py",
      "mimetype": "text/x-python",
      "name": "python",
      "nbconvert_exporter": "python",
      "pygments_lexer": "ipython2",
      "version": "2.7.15"
    }
  },
  "nbformat": 4,
  "nbformat_minor": 0
}
